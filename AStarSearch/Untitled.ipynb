{
 "cells": [
  {
   "cell_type": "code",
   "execution_count": 2,
   "metadata": {},
   "outputs": [
    {
     "data": {
      "text/plain": [
       "{'a', 'h', 'm', 'p', 's'}"
      ]
     },
     "execution_count": 2,
     "metadata": {},
     "output_type": "execute_result"
    }
   ],
   "source": [
    "sss = set(['a', 'p', 's', 'h', 'm'])  \n",
    "sss"
   ]
  },
  {
   "cell_type": "code",
   "execution_count": 8,
   "metadata": {
    "collapsed": true
   },
   "outputs": [],
   "source": [
    "import math\n",
    "a = [1,2]\n",
    "b = [3,4]"
   ]
  },
  {
   "cell_type": "code",
   "execution_count": 9,
   "metadata": {
    "collapsed": true
   },
   "outputs": [],
   "source": [
    "pow(2,3)\n",
    "math.sqrt(4)\n",
    "\n",
    "def heuristic_cost_estimate(start,goal):\n",
    "\treturn math.sqrt(pow((start[0]-goal[0]),2)+pow((start[1]-goal[1]),2))"
   ]
  },
  {
   "cell_type": "code",
   "execution_count": 10,
   "metadata": {},
   "outputs": [
    {
     "data": {
      "text/plain": [
       "2.8284271247461903"
      ]
     },
     "execution_count": 10,
     "metadata": {},
     "output_type": "execute_result"
    }
   ],
   "source": [
    "heuristic_cost_estimate(a,b)"
   ]
  },
  {
   "cell_type": "code",
   "execution_count": 21,
   "metadata": {
    "collapsed": true
   },
   "outputs": [],
   "source": [
    "import math\n",
    "\n",
    "def heuristic_cost_estimate(start,goal):\n",
    "    return math.sqrt(pow((start[0]-goal[0]),2)+pow((start[1]-goal[1]),2))\n",
    "\n",
    "\n",
    "def dist_between(start,end):\n",
    "    return math.sqrt(pow((start[0]-end[0]),2)+pow((start[1]-end[1]),2))\n",
    "\n",
    "\n",
    "def get_best_f_score(input_set):\n",
    "    idx = input_set.pop()\n",
    "    best = idx\n",
    "    bv = f_score[idx]\n",
    "    for idx in input_set:\n",
    "        if f_score[idx] < bv:\n",
    "            best = idx\n",
    "            bv = f_score[idx]\n",
    "    return best  \n",
    "\n",
    "def reconstruct_path(came_from, current_node):\n",
    "    if came_from[current_node] is set:\n",
    "        p = reconstruct_path(came_from, came_from[current_node])\n",
    "        return p.append(current_node)\n",
    "    else:\n",
    "        return current_node\n",
    "def shortest_path(M,start,goal):\n",
    "    print(\"shortest path called\")\n",
    "    intersections = M.intersections\n",
    "    roads = M.roads\n",
    "    frontierset = set(start)\n",
    "    explorededset = set()\n",
    "    came_from = []\n",
    "    g_score[start] = 0\n",
    "    h_score[start] = heuristic_cost_estimate(intersections[start],intersections[goal])\n",
    "    f_score[start] = g_score[start] + h_score[start]\n",
    "\n",
    "    while frontierset:\n",
    "        currentintersection = get_best_f_score(frontierset)\n",
    "        explorededset.add(currentintersection)\n",
    "        neighborsets = set(roads[currentintersection])\n",
    "        if currentintersection == goal:\n",
    "            return reconstruct_path(came_from, came_from[goal])\n",
    "        else:\n",
    "            for neighbor in neighborsets:\n",
    "                if neighbor not in explorededset:\n",
    "                    tentative_g_score = g_score[currentintersection] + dist_between(intersections[currentintersection],intersections[neighbor])\n",
    "                    if neighbor not in frontierset:\n",
    "                        frontierset.add(neighbor)\n",
    "                        h_score[neighbor] = heuristic_cost_estimate(intersections[neighbor],intersections[goal])\n",
    "                        tentative_is_better = true\n",
    "                    elif (tentative_g_score < g_score[neighbor]):\n",
    "                        tentative_is_better = true\n",
    "                    else:\n",
    "                        tentative_is_better = false\n",
    "\n",
    "                    if tentative_is_better == true:\n",
    "                        came_from[neighbor] = currentintersection\n",
    "                        g_score[neighbor] = tentative_g_score\n",
    "                        f_score[neighbor] = g_score[neighbor] + h_score[neighbor]\n",
    "\n",
    "    return failure"
   ]
  },
  {
   "cell_type": "code",
   "execution_count": null,
   "metadata": {
    "collapsed": true
   },
   "outputs": [],
   "source": [
    "def reconstruct_path(came_from, current_node):\n",
    "    if came_from[current_node] is set:\n",
    "        p = reconstruct_path(came_from, came_from[current_node])\n",
    "        return p.append(current_node)\n",
    "    else:\n",
    "        return current_node\n",
    "    \n"
   ]
  },
  {
   "cell_type": "code",
   "execution_count": 25,
   "metadata": {},
   "outputs": [
    {
     "data": {
      "text/plain": [
       "{set: 5}"
      ]
     },
     "execution_count": 25,
     "metadata": {},
     "output_type": "execute_result"
    }
   ],
   "source": [
    "g_score = {}\n",
    "g_score[set] = 1\n",
    "g_score[set] =5\n",
    "\n",
    "g_score"
   ]
  },
  {
   "cell_type": "code",
   "execution_count": 4,
   "metadata": {},
   "outputs": [
    {
     "name": "stdout",
     "output_type": "stream",
     "text": [
      "{1, 2, 3, 4, 5}\n",
      "{2, 3, 4, 5}\n",
      "1\n",
      "{1, 2, 3, 4, 5}\n"
     ]
    },
    {
     "data": {
      "text/plain": [
       "1"
      ]
     },
     "execution_count": 4,
     "metadata": {},
     "output_type": "execute_result"
    }
   ],
   "source": [
    "def get_best_f_score(input_set,scoredict):\n",
    "    print(input_set)\n",
    "    idx = input_set.pop()\n",
    "    print(input_set)\n",
    "    print(idx)\n",
    "    input_set.add(idx)\n",
    "    print(input_set)\n",
    "    best = idx\n",
    "    bv = scoredict[idx]\n",
    "    for idx in input_set:\n",
    "        if scoredict[idx] < bv:\n",
    "            best = idx\n",
    "            bv = scoredict[idx]\n",
    "    return best  \n",
    "\n",
    "frontier = set([1,2,3,4,5])\n",
    "score = {1:3,2:4,3:5,4:6,5:7}\n",
    "get_best_f_score(frontier,score)"
   ]
  }
 ],
 "metadata": {
  "kernelspec": {
   "display_name": "Python 3",
   "language": "python",
   "name": "python3"
  },
  "language_info": {
   "codemirror_mode": {
    "name": "ipython",
    "version": 3
   },
   "file_extension": ".py",
   "mimetype": "text/x-python",
   "name": "python",
   "nbconvert_exporter": "python",
   "pygments_lexer": "ipython3",
   "version": "3.6.1"
  }
 },
 "nbformat": 4,
 "nbformat_minor": 2
}
